{
 "cells": [
  {
   "cell_type": "markdown",
   "source": [
    "**1. Does assignment to an indexed character of a string violate Python’s immutability for strings?**"
   ],
   "metadata": {}
  },
  {
   "cell_type": "markdown",
   "source": [
    "Ans. \n",
    "\n",
    "String is an immutable. So we can't do any updation or deletion with the string items through indexing."
   ],
   "metadata": {}
  },
  {
   "cell_type": "code",
   "execution_count": 1,
   "source": [
    "s='Vinayak'\r\n",
    "s[2]='t'\r\n",
    "print(s)"
   ],
   "outputs": [
    {
     "output_type": "error",
     "ename": "TypeError",
     "evalue": "'str' object does not support item assignment",
     "traceback": [
      "\u001b[1;31m---------------------------------------------------------------------------\u001b[0m",
      "\u001b[1;31mTypeError\u001b[0m                                 Traceback (most recent call last)",
      "\u001b[1;32m~\\AppData\\Local\\Temp/ipykernel_7120/2329236615.py\u001b[0m in \u001b[0;36m<module>\u001b[1;34m\u001b[0m\n\u001b[0;32m      1\u001b[0m \u001b[0ms\u001b[0m\u001b[1;33m=\u001b[0m\u001b[1;34m'Vinayak'\u001b[0m\u001b[1;33m\u001b[0m\u001b[1;33m\u001b[0m\u001b[0m\n\u001b[1;32m----> 2\u001b[1;33m \u001b[0ms\u001b[0m\u001b[1;33m[\u001b[0m\u001b[1;36m2\u001b[0m\u001b[1;33m]\u001b[0m\u001b[1;33m=\u001b[0m\u001b[1;34m't'\u001b[0m\u001b[1;33m\u001b[0m\u001b[1;33m\u001b[0m\u001b[0m\n\u001b[0m\u001b[0;32m      3\u001b[0m \u001b[0mprint\u001b[0m\u001b[1;33m(\u001b[0m\u001b[0ms\u001b[0m\u001b[1;33m)\u001b[0m\u001b[1;33m\u001b[0m\u001b[1;33m\u001b[0m\u001b[0m\n",
      "\u001b[1;31mTypeError\u001b[0m: 'str' object does not support item assignment"
     ]
    }
   ],
   "metadata": {}
  },
  {
   "cell_type": "markdown",
   "source": [
    "**2. Does string concatenation, using the += operator, violate Python’s immutability for strings? Why or why not?**"
   ],
   "metadata": {}
  },
  {
   "cell_type": "markdown",
   "source": [
    "Ans.\n",
    "\n",
    "No it doesnot violate it because string class is having an inbuilt method which is  _ _ add _ _() which takes strings and concatenate them"
   ],
   "metadata": {}
  },
  {
   "cell_type": "markdown",
   "source": [
    "**3. How many ways are there in Python to index a given character?**"
   ],
   "metadata": {}
  },
  {
   "cell_type": "markdown",
   "source": [
    "Ans.\n",
    "There are various ways in pytho to get some item at some index position.\n",
    "\n",
    "1) By simply using the indexing and slicing method inside square bracket. Eg: item[1] or item[1:4] or item[3::2], etc\n",
    "\n",
    "2) By using list index method. **list.index(position)**. In this way one can get the item at some index position.\n",
    "\n",
    "3) Using built in method like **_ _ getitem _ _ ()**  and **_ _ index _ _**. We can use this inside the class\n"
   ],
   "metadata": {}
  },
  {
   "cell_type": "markdown",
   "source": [
    "**4. How, precisely, are indexing and slicing related?**\n",
    "\n"
   ],
   "metadata": {}
  },
  {
   "cell_type": "markdown",
   "source": [
    "Ans.\n",
    "\n",
    "**Indexing**: It is a technique used to get the item of that particuar index position or in cas eof mutable object we can also update the value or add the new value by just giving the index position and assignment operator.\n",
    "    \n",
    "**Slicing**: It is use when we wan to extract some range of a item from some object.  \n",
    "\n",
    "**Example**"
   ],
   "metadata": {}
  },
  {
   "cell_type": "code",
   "execution_count": 11,
   "source": [
    "l = [11,22,33,44,55,66,77,88]\r\n",
    "\r\n",
    "indexing=l[5] #getting that item at position 5\r\n",
    "print(f'Indexing: {indexing}')\r\n",
    "\r\n",
    "slicing=l[1:5]  #getting items from position 1 till 4\r\n",
    "print(f'Slicing: {slicing}')"
   ],
   "outputs": [
    {
     "output_type": "stream",
     "name": "stdout",
     "text": [
      "Indexing: 66\n",
      "Slicing: [22, 33, 44, 55]\n"
     ]
    }
   ],
   "metadata": {}
  },
  {
   "cell_type": "code",
   "execution_count": 12,
   "source": [
    "type(indexing)"
   ],
   "outputs": [
    {
     "output_type": "execute_result",
     "data": {
      "text/plain": [
       "int"
      ]
     },
     "metadata": {},
     "execution_count": 12
    }
   ],
   "metadata": {}
  },
  {
   "cell_type": "code",
   "execution_count": 14,
   "source": [
    "type('.')"
   ],
   "outputs": [
    {
     "output_type": "execute_result",
     "data": {
      "text/plain": [
       "str"
      ]
     },
     "metadata": {},
     "execution_count": 14
    }
   ],
   "metadata": {}
  },
  {
   "cell_type": "markdown",
   "source": [
    "**5. What is the exact data type of an indexed character? What is the data type of a substring produced from slicing?**\n",
    "\n"
   ],
   "metadata": {}
  },
  {
   "cell_type": "markdown",
   "source": [
    "Ans.\n",
    "\n",
    "The exact data type for the indexed character is **CHAR** but generally it is refer to as a string. Or it could that which was earlier before the indexing.\n",
    "\n",
    "The data type of a substring produced from slicing is also a string"
   ],
   "metadata": {}
  },
  {
   "cell_type": "markdown",
   "source": [
    "**6. In Python, what is the relationship between the string and character “types”?**\n"
   ],
   "metadata": {}
  },
  {
   "cell_type": "markdown",
   "source": [
    "Ans.\n",
    "\n",
    "Character refers to a single letter, number, space, punctuation mark or a symbol. Its data type is actually a **CHAR** which stores character data in a fixed-length field.\n",
    "\n",
    "While String is a sequence of characters. A group of different different character compose a string. We enclosed it by ' ' \n",
    "Strings are arrays of bytes representing Unicode characters. Its type is **string**\n",
    "\n"
   ],
   "metadata": {}
  },
  {
   "cell_type": "markdown",
   "source": [
    "\n",
    "**7. Name at least two operators and one method that enable you to build a larger string out of one or more smaller strings.**\n"
   ],
   "metadata": {}
  },
  {
   "cell_type": "markdown",
   "source": [
    "Ans.\n",
    "\n",
    "In this case concatenation and a kind of multiple times of string comes into action. Concatenation needed **+** operator while multiple time needed '*' operator.\n",
    "\n",
    "In case of methods there are a method which do the same:\n",
    "\n",
    "**_ _ add _ _** and **_ _ mul_ _**"
   ],
   "metadata": {}
  },
  {
   "cell_type": "code",
   "execution_count": 2,
   "source": [
    "print('vinayak'+'dumbre')\r\n",
    "print('vinayak '*2)\r\n",
    "print(str.__add__('vinayak','dumbre'))\r\n",
    "print(str.__mul__('vinayak ',2))"
   ],
   "outputs": [
    {
     "output_type": "stream",
     "name": "stdout",
     "text": [
      "vinayakdumbre\n",
      "vinayak vinayak \n",
      "vinayakdumbre\n",
      "vinayak vinayak \n"
     ]
    }
   ],
   "metadata": {}
  },
  {
   "cell_type": "markdown",
   "source": [
    "\n",
    "**8. If you are going to use the index method to locate a substring, what is the advantage of first testing the target string by using in or not in?**\n"
   ],
   "metadata": {}
  },
  {
   "cell_type": "markdown",
   "source": [
    "Ans. \n",
    "\n",
    "When we first check the target string using **in** or **not in** containment operator then we could get to know whether that particular target string is present or not. If it is not present the it will give True as a result else will False.\n",
    "Its better to check before becaue if we are not testinng it first and the substring is not present in the string then it will result in an exception"
   ],
   "metadata": {}
  },
  {
   "cell_type": "markdown",
   "source": [
    "\n",
    "**9. Which built-in string methods, and which operators, produce a simple Boolean (true/false) results?**\n"
   ],
   "metadata": {}
  },
  {
   "cell_type": "markdown",
   "source": [
    "Ans.\n",
    "\n",
    "**_ _ contains _ _** is a built in method which produces the Boolean values in result.\n",
    "\n",
    "Others are also some methods which result the boolean values: \n",
    "'isalnum','isalpha', 'isascii','isdecimal','isdigit','isidentifier', 'islower', 'isnumeric','isprintable', 'isspace', 'istitle', 'isupper',\n",
    "\n",
    "The operator which used in this is **'in'** which is also called as containment operator"
   ],
   "metadata": {}
  },
  {
   "cell_type": "code",
   "execution_count": null,
   "source": [],
   "outputs": [],
   "metadata": {}
  }
 ],
 "metadata": {
  "kernelspec": {
   "name": "python3",
   "display_name": "Python 3.8.11 64-bit ('base': conda)"
  },
  "language_info": {
   "codemirror_mode": {
    "name": "ipython",
    "version": 3
   },
   "file_extension": ".py",
   "mimetype": "text/x-python",
   "name": "python",
   "nbconvert_exporter": "python",
   "pygments_lexer": "ipython3",
   "version": "3.8.11"
  },
  "interpreter": {
   "hash": "c58d10f40f0b856b9f76130d9ed183997b07a9ef1518b907aa0aba494584eb5b"
  }
 },
 "nbformat": 4,
 "nbformat_minor": 5
}